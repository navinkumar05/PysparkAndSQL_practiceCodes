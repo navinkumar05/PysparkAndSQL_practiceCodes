{
 "cells": [
  {
   "cell_type": "code",
   "execution_count": 1,
   "id": "0d26c47e-e078-485a-97b6-19ed69f32373",
   "metadata": {},
   "outputs": [],
   "source": [
    "import findspark\n",
    "findspark.init('/home/navin/spark-2.4.6-bin-hadoop2.7')"
   ]
  },
  {
   "cell_type": "code",
   "execution_count": 2,
   "id": "81107ce8-6682-45c0-9d65-79ba02b9a458",
   "metadata": {},
   "outputs": [],
   "source": [
    "from datetime import datetime"
   ]
  },
  {
   "cell_type": "code",
   "execution_count": 3,
   "id": "a8ac3911-a69b-4ac3-b663-33c9c3bb7215",
   "metadata": {},
   "outputs": [
    {
     "name": "stdout",
     "output_type": "stream",
     "text": [
      "20240531175659\n"
     ]
    }
   ],
   "source": [
    "print(datetime.now().strftime(\"%Y%m%d%H%M%S\"))"
   ]
  },
  {
   "cell_type": "code",
   "execution_count": 4,
   "id": "16a68094-6227-4f42-b07d-b196fe7cab92",
   "metadata": {},
   "outputs": [],
   "source": [
    "# word count program\n",
    "from pyspark import SparkConf, SparkContext\n",
    "from pyspark.sql import SparkSession\n",
    "\n",
    "# Initialize Spark Session\n",
    "spark = SparkSession.builder \\\n",
    "    .appName(\"WordCount\") \\\n",
    "    .getOrCreate()"
   ]
  },
  {
   "cell_type": "code",
   "execution_count": 5,
   "id": "84849879-65ee-401f-8ed6-f9156d91cc44",
   "metadata": {},
   "outputs": [],
   "source": [
    "# Read the text file into an RDD\n",
    "text_file = spark.sparkContext.textFile(\"file:///home/navin/Downloads/wordcount.txt\")\n",
    "\n",
    "# Perform the WordCount\n",
    "counts = text_file.flatMap(lambda line: line.split(\" \")) \\\n",
    "                  .map(lambda word: (word, 1)) \\\n",
    "                  .reduceByKey(lambda a, b: a + b)"
   ]
  },
  {
   "cell_type": "code",
   "execution_count": 6,
   "id": "9cd20efd-98cf-4845-9f1d-d716bf9bcfaf",
   "metadata": {},
   "outputs": [
    {
     "data": {
      "text/plain": [
       "[('world!', 2), ('home', 2), ('hello', 4), ('welcome', 4)]"
      ]
     },
     "execution_count": 6,
     "metadata": {},
     "output_type": "execute_result"
    }
   ],
   "source": [
    "# flatmap_op=text_file.flatMap(lambda line: line.split(\" \"))\n",
    "# text_file.flatMap(lambda line: line.split(\" \")).collect()\n",
    "# text_file.flatMap(lambda line: line.split(\" \")).map(lambda word: (word, 1)).collect()\n",
    "text_file.flatMap(lambda line: line.split(\" \")).map(lambda word: (word, 2)).reduceByKey(lambda a, b: a + b).collect()\n",
    "# res=flatmap_op.collect()\n",
    "# print(res)"
   ]
  },
  {
   "cell_type": "code",
   "execution_count": 20,
   "id": "667e1dd6-554d-42a0-875c-638df6915d07",
   "metadata": {},
   "outputs": [
    {
     "data": {
      "text/plain": [
       "pyspark.rdd.PipelinedRDD"
      ]
     },
     "execution_count": 20,
     "metadata": {},
     "output_type": "execute_result"
    }
   ],
   "source": [
    "type(counts)"
   ]
  },
  {
   "cell_type": "code",
   "execution_count": 21,
   "id": "92687678-ce07-4a75-a102-78c5388caa81",
   "metadata": {},
   "outputs": [],
   "source": [
    "# counts.saveAsTextFile(\"file:///home/navin/Downloads/output\")"
   ]
  },
  {
   "cell_type": "code",
   "execution_count": 22,
   "id": "6da93eb0-07fd-47c7-8e82-113aaad74b58",
   "metadata": {},
   "outputs": [],
   "source": [
    "# Convert RDD into DataFrame\n",
    "counts_df = counts.toDF([\"word\", \"count\"])"
   ]
  },
  {
   "cell_type": "code",
   "execution_count": 23,
   "id": "ef662daf-3c25-4462-83b7-9e91a42d2bac",
   "metadata": {},
   "outputs": [],
   "source": [
    "# Coalesce to a single partition\n",
    "counts_single_partition = counts_df.coalesce(1)\n",
    "\n",
    "timestamp=datetime.now().strftime(\"%Y%m%d%H%M%S\")\n",
    "outputFilePath=f\"file:///home/navin/Downloads/output_{timestamp}\"\n",
    "\n",
    "# Save the result to HDFS\n",
    "counts_single_partition.write.mode(\"overwrite\").csv(outputFilePath)\n"
   ]
  },
  {
   "cell_type": "markdown",
   "id": "2fbf5474-9dcc-43b4-be49-a6de0f259d7f",
   "metadata": {},
   "source": [
    "# why spark.stop()?\n",
    "Resource Management:\n",
    "- Spark applications run in a distributed environment, often using multiple nodes in a cluster. When a Spark context is created, it allocates resources (like memory and CPU) across these nodes. Stopping the context releases these resources, making them available for other applications or processes."
   ]
  },
  {
   "cell_type": "code",
   "execution_count": 7,
   "id": "f63fb8ba-9577-4c1e-aae3-81b530e71308",
   "metadata": {},
   "outputs": [],
   "source": [
    "# Stop the SparkSession\n",
    "spark.stop()"
   ]
  },
  {
   "cell_type": "markdown",
   "id": "4e56194d-2a98-4274-9f31-daa760347f99",
   "metadata": {},
   "source": [
    "#  spark - submit -PY FILE\n",
    "$SPARK_HOME/bin/spark-submit --master spark://<master-node>:7077 /path/to/wordcount.py\n",
    "\n",
    "bin/spark-submit --master spark://navin-VM:7077 --num-executors 1 /home/navin/Documents/wordcount_program.py"
   ]
  },
  {
   "cell_type": "code",
   "execution_count": null,
   "id": "1090b7ff-dbb0-456a-80b5-9f76abab38b8",
   "metadata": {},
   "outputs": [],
   "source": []
  }
 ],
 "metadata": {
  "kernelspec": {
   "display_name": "Python 3",
   "language": "python",
   "name": "python3"
  },
  "language_info": {
   "codemirror_mode": {
    "name": "ipython",
    "version": 3
   },
   "file_extension": ".py",
   "mimetype": "text/x-python",
   "name": "python",
   "nbconvert_exporter": "python",
   "pygments_lexer": "ipython3",
   "version": "3.6.9"
  }
 },
 "nbformat": 4,
 "nbformat_minor": 5
}
