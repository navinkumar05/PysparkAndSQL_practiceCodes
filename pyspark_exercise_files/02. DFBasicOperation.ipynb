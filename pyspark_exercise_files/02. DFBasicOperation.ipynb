{
 "cells": [
  {
   "cell_type": "markdown",
   "id": "d56632cc-e382-4638-8b13-4dd132a4c318",
   "metadata": {},
   "source": [
    "# Overview\n",
    "\n",
    "- filter\n",
    "- conditional operation\n",
    "    - Logical operators (&, |, ~)\n",
    "- Convert list into Dict\n",
    "    - grab the key from dictionary\n",
    "    \n",
    "    \n",
    "# Aggregation"
   ]
  },
  {
   "cell_type": "code",
   "execution_count": 1,
   "id": "0a72857b-e991-4e34-b3c1-66a049ce60d6",
   "metadata": {},
   "outputs": [],
   "source": [
    "import findspark\n",
    "findspark.init('/home/navin/spark-2.4.6-bin-hadoop2.7')"
   ]
  },
  {
   "cell_type": "code",
   "execution_count": 2,
   "id": "cca53dfd-b263-4645-8c72-45f8c2c00c93",
   "metadata": {},
   "outputs": [],
   "source": [
    "from pyspark.sql import SparkSession"
   ]
  },
  {
   "cell_type": "code",
   "execution_count": 3,
   "id": "250e5c95-50d4-4979-baf8-0c5c3a8693e9",
   "metadata": {},
   "outputs": [],
   "source": [
    "spark=SparkSession.builder.appName('ops').getOrCreate()"
   ]
  },
  {
   "cell_type": "code",
   "execution_count": 5,
   "id": "20eb14f2-31bc-4960-aef8-0b36cdadc4bd",
   "metadata": {},
   "outputs": [],
   "source": [
    "df=spark.read.csv(\"file:///home/navin/Documents/Data/appl_stock.csv\", header=True, inferSchema=True)"
   ]
  },
  {
   "cell_type": "code",
   "execution_count": 9,
   "id": "f7eae74b-be35-4ae3-be94-61e1ed4505d4",
   "metadata": {},
   "outputs": [
    {
     "name": "stdout",
     "output_type": "stream",
     "text": [
      "root\n",
      " |-- Date: timestamp (nullable = true)\n",
      " |-- Open: double (nullable = true)\n",
      " |-- High: double (nullable = true)\n",
      " |-- Low: double (nullable = true)\n",
      " |-- Close: double (nullable = true)\n",
      " |-- Volume: integer (nullable = true)\n",
      " |-- Adj Close: double (nullable = true)\n",
      "\n"
     ]
    }
   ],
   "source": [
    "df.printSchema()"
   ]
  },
  {
   "cell_type": "code",
   "execution_count": 11,
   "id": "006435d6-a21e-4b8a-9a16-5d93992e8c24",
   "metadata": {},
   "outputs": [
    {
     "data": {
      "text/plain": [
       "[Row(Date=datetime.datetime(2010, 1, 4, 0, 0), Open=213.429998, High=214.499996, Low=212.38000099999996, Close=214.009998, Volume=123432400, Adj Close=27.727039),\n",
       " Row(Date=datetime.datetime(2010, 1, 5, 0, 0), Open=214.599998, High=215.589994, Low=213.249994, Close=214.379993, Volume=150476200, Adj Close=27.774976000000002),\n",
       " Row(Date=datetime.datetime(2010, 1, 6, 0, 0), Open=214.379993, High=215.23, Low=210.750004, Close=210.969995, Volume=138040000, Adj Close=27.333178000000004),\n",
       " Row(Date=datetime.datetime(2010, 1, 7, 0, 0), Open=211.75, High=212.000006, Low=209.050005, Close=210.58, Volume=119282800, Adj Close=27.28265),\n",
       " Row(Date=datetime.datetime(2010, 1, 8, 0, 0), Open=210.299994, High=212.000006, Low=209.06000500000002, Close=211.98000499999998, Volume=111902700, Adj Close=27.464034)]"
      ]
     },
     "execution_count": 11,
     "metadata": {},
     "output_type": "execute_result"
    }
   ],
   "source": [
    "df.head(5)"
   ]
  },
  {
   "cell_type": "code",
   "execution_count": 12,
   "id": "a841b023-c2be-4059-9b5f-7c86397f5823",
   "metadata": {},
   "outputs": [
    {
     "data": {
      "text/plain": [
       "list"
      ]
     },
     "execution_count": 12,
     "metadata": {},
     "output_type": "execute_result"
    }
   ],
   "source": [
    "type(df.head(5))"
   ]
  },
  {
   "cell_type": "code",
   "execution_count": 14,
   "id": "9a8c3507-e83a-42eb-b355-476180353bcf",
   "metadata": {},
   "outputs": [
    {
     "data": {
      "text/plain": [
       "5"
      ]
     },
     "execution_count": 14,
     "metadata": {},
     "output_type": "execute_result"
    }
   ],
   "source": [
    "len(df.head(5))"
   ]
  },
  {
   "cell_type": "code",
   "execution_count": 8,
   "id": "45ca2c41-386c-4a0a-a206-9ae537cc9cb0",
   "metadata": {},
   "outputs": [
    {
     "data": {
      "text/plain": [
       "1762"
      ]
     },
     "execution_count": 8,
     "metadata": {},
     "output_type": "execute_result"
    }
   ],
   "source": [
    "df.count()"
   ]
  },
  {
   "cell_type": "code",
   "execution_count": 18,
   "id": "b82c9f0c-c605-48c7-a23e-f214f8e1bbe5",
   "metadata": {},
   "outputs": [
    {
     "name": "stdout",
     "output_type": "stream",
     "text": [
      "+------------------+----------+---------+\n",
      "|              Open|     Close|   Volume|\n",
      "+------------------+----------+---------+\n",
      "|206.78000600000001|    197.75|220441900|\n",
      "|        204.930004|199.289995|293375600|\n",
      "|        201.079996|192.060003|311488100|\n",
      "|192.36999699999998|194.729998|187469100|\n",
      "|        195.909998|195.859997|174585600|\n",
      "+------------------+----------+---------+\n",
      "only showing top 5 rows\n",
      "\n"
     ]
    }
   ],
   "source": [
    "df.filter('Close<200').select(['Open', 'Close', 'Volume']).show(5)"
   ]
  },
  {
   "cell_type": "code",
   "execution_count": 24,
   "id": "bd113623-9d98-4e5e-8bd0-8fb4294c0ed3",
   "metadata": {},
   "outputs": [
    {
     "name": "stdout",
     "output_type": "stream",
     "text": [
      "+------------------+----------+---------+\n",
      "|              Open|     Close|   Volume|\n",
      "+------------------+----------+---------+\n",
      "|192.36999699999998|194.729998|187469100|\n",
      "|        195.909998|195.859997|174585600|\n",
      "|        195.169994|199.229994|153832000|\n",
      "|        196.730003|192.050003|189413000|\n",
      "|192.63000300000002|195.460001|212576700|\n",
      "+------------------+----------+---------+\n",
      "only showing top 5 rows\n",
      "\n"
     ]
    }
   ],
   "source": [
    "# Multiple condition operation\n",
    "\n",
    "df.filter((df['Close']<200) & (df['Open']<200)).select(['Open', 'Close', 'Volume']).show(5)"
   ]
  },
  {
   "cell_type": "markdown",
   "id": "53ff2a65-e82d-41b8-a10d-90de282fdb41",
   "metadata": {},
   "source": [
    "# collect\n",
    "\n",
    "- save the result in list"
   ]
  },
  {
   "cell_type": "code",
   "execution_count": 33,
   "id": "f13ddd92-8fdc-4285-bc22-f644368df37d",
   "metadata": {},
   "outputs": [],
   "source": [
    "result=df.filter((df['Close']<200) & (df['Open']<200)).select(['Open', 'Close', 'Volume']).limit(2).collect()"
   ]
  },
  {
   "cell_type": "code",
   "execution_count": 34,
   "id": "7ce9a824-2896-49ae-a508-073322a16840",
   "metadata": {},
   "outputs": [
    {
     "data": {
      "text/plain": [
       "[Row(Open=192.36999699999998, Close=194.729998, Volume=187469100),\n",
       " Row(Open=195.909998, Close=195.859997, Volume=174585600)]"
      ]
     },
     "execution_count": 34,
     "metadata": {},
     "output_type": "execute_result"
    }
   ],
   "source": [
    "result"
   ]
  },
  {
   "cell_type": "code",
   "execution_count": 37,
   "id": "eb2b54a4-41fb-465c-b2a1-d249a14c253b",
   "metadata": {},
   "outputs": [
    {
     "data": {
      "text/plain": [
       "187469100"
      ]
     },
     "execution_count": 37,
     "metadata": {},
     "output_type": "execute_result"
    }
   ],
   "source": [
    "# convert list into dictionary\n",
    "row=result[0]\n",
    "row.asDict()['Volume']"
   ]
  },
  {
   "cell_type": "markdown",
   "id": "3e0f615c-bf12-49ff-a2db-039d6cc645fe",
   "metadata": {},
   "source": [
    "# Group by & Aggregate Functions"
   ]
  },
  {
   "cell_type": "code",
   "execution_count": 39,
   "id": "00abecd0-cc4e-49a9-b8b4-d92c1981d274",
   "metadata": {},
   "outputs": [],
   "source": [
    "sales_df=spark.read.csv(\"file:///home/navin/Documents/Data/sales_info.csv\", header=True, inferSchema=True)"
   ]
  },
  {
   "cell_type": "code",
   "execution_count": 41,
   "id": "ca524152-cf88-4338-a175-4b071777ba85",
   "metadata": {},
   "outputs": [
    {
     "name": "stdout",
     "output_type": "stream",
     "text": [
      "+-------+-------+-----+\n",
      "|Company| Person|Sales|\n",
      "+-------+-------+-----+\n",
      "|   GOOG|    Sam|200.0|\n",
      "|   GOOG|Charlie|120.0|\n",
      "|   GOOG|  Frank|340.0|\n",
      "|   MSFT|   Tina|600.0|\n",
      "|   MSFT|    Amy|124.0|\n",
      "|   MSFT|Vanessa|243.0|\n",
      "|     FB|   Carl|870.0|\n",
      "|     FB|  Sarah|350.0|\n",
      "|   APPL|   John|250.0|\n",
      "|   APPL|  Linda|130.0|\n",
      "|   APPL|   Mike|750.0|\n",
      "|   APPL|  Chris|350.0|\n",
      "+-------+-------+-----+\n",
      "\n"
     ]
    }
   ],
   "source": [
    "sales_df.show()"
   ]
  },
  {
   "cell_type": "code",
   "execution_count": 42,
   "id": "a84057b4-3d3d-45c2-a096-a43c4d786864",
   "metadata": {},
   "outputs": [
    {
     "name": "stdout",
     "output_type": "stream",
     "text": [
      "root\n",
      " |-- Company: string (nullable = true)\n",
      " |-- Person: string (nullable = true)\n",
      " |-- Sales: double (nullable = true)\n",
      "\n"
     ]
    }
   ],
   "source": [
    "sales_df.printSchema()"
   ]
  },
  {
   "cell_type": "code",
   "execution_count": 46,
   "id": "43bae875-9da0-45b1-b851-9ea88d965f63",
   "metadata": {},
   "outputs": [
    {
     "data": {
      "text/plain": [
       "<pyspark.sql.group.GroupedData at 0x7f52af23ea20>"
      ]
     },
     "execution_count": 46,
     "metadata": {},
     "output_type": "execute_result"
    }
   ],
   "source": [
    "sales_df.groupBy(\"Company\")"
   ]
  },
  {
   "cell_type": "code",
   "execution_count": 49,
   "id": "3f3d76d6-2cca-4139-acb6-38dd5176af70",
   "metadata": {},
   "outputs": [
    {
     "name": "stdout",
     "output_type": "stream",
     "text": [
      "+-------+-----------------+\n",
      "|Company|       avg(Sales)|\n",
      "+-------+-----------------+\n",
      "|   APPL|            370.0|\n",
      "|   GOOG|            220.0|\n",
      "|     FB|            610.0|\n",
      "|   MSFT|322.3333333333333|\n",
      "+-------+-----------------+\n",
      "\n"
     ]
    }
   ],
   "source": [
    "sales_df.groupBy(\"Company\").mean().show()"
   ]
  },
  {
   "cell_type": "code",
   "execution_count": 50,
   "id": "d26646fa-fe18-4b2f-b30a-7d348a5b4559",
   "metadata": {},
   "outputs": [
    {
     "name": "stdout",
     "output_type": "stream",
     "text": [
      "+-------+----------+\n",
      "|Company|sum(Sales)|\n",
      "+-------+----------+\n",
      "|   APPL|    1480.0|\n",
      "|   GOOG|     660.0|\n",
      "|     FB|    1220.0|\n",
      "|   MSFT|     967.0|\n",
      "+-------+----------+\n",
      "\n"
     ]
    }
   ],
   "source": [
    "sales_df.groupBy(\"Company\").sum().show()"
   ]
  },
  {
   "cell_type": "code",
   "execution_count": 51,
   "id": "4e75a124-d0b2-40b5-a939-4b4e25cfc5c5",
   "metadata": {},
   "outputs": [
    {
     "name": "stdout",
     "output_type": "stream",
     "text": [
      "+-------+-----+\n",
      "|Company|count|\n",
      "+-------+-----+\n",
      "|   APPL|    4|\n",
      "|   GOOG|    3|\n",
      "|     FB|    2|\n",
      "|   MSFT|    3|\n",
      "+-------+-----+\n",
      "\n"
     ]
    }
   ],
   "source": [
    "sales_df.groupBy(\"Company\").count().show()"
   ]
  },
  {
   "cell_type": "markdown",
   "id": "23acd7cb-795e-4207-8a03-257aea99c5e8",
   "metadata": {},
   "source": [
    "## Total (all columns)"
   ]
  },
  {
   "cell_type": "code",
   "execution_count": 52,
   "id": "2a3d4b86-8577-4967-9079-f6415b7007da",
   "metadata": {},
   "outputs": [
    {
     "name": "stdout",
     "output_type": "stream",
     "text": [
      "+----------+\n",
      "|sum(Sales)|\n",
      "+----------+\n",
      "|    4327.0|\n",
      "+----------+\n",
      "\n"
     ]
    }
   ],
   "source": [
    "sales_df.agg({\"Sales\":\"SUM\"}).show()"
   ]
  },
  {
   "cell_type": "code",
   "execution_count": 55,
   "id": "159285da-957d-4a94-a8ce-e466958578dc",
   "metadata": {},
   "outputs": [
    {
     "name": "stdout",
     "output_type": "stream",
     "text": [
      "+-------+----------+\n",
      "|Company|sum(Sales)|\n",
      "+-------+----------+\n",
      "|   APPL|    1480.0|\n",
      "|   GOOG|     660.0|\n",
      "|     FB|    1220.0|\n",
      "|   MSFT|     967.0|\n",
      "+-------+----------+\n",
      "\n"
     ]
    }
   ],
   "source": [
    "group_Company=sales_df.groupBy(\"Company\")\n",
    "group_Company.agg({\"Sales\":\"SUM\"}).show()"
   ]
  },
  {
   "cell_type": "code",
   "execution_count": 60,
   "id": "230fbe7b-c30e-48e4-ae91-45b0adb77810",
   "metadata": {},
   "outputs": [],
   "source": [
    "from pyspark.sql.functions import countDistinct, avg, stddev"
   ]
  },
  {
   "cell_type": "code",
   "execution_count": 58,
   "id": "8a148a09-dee1-460c-b8eb-cdc9e7e80767",
   "metadata": {},
   "outputs": [
    {
     "name": "stdout",
     "output_type": "stream",
     "text": [
      "+---------------------+\n",
      "|count(DISTINCT Sales)|\n",
      "+---------------------+\n",
      "|                   11|\n",
      "+---------------------+\n",
      "\n"
     ]
    }
   ],
   "source": [
    "sales_df.select(countDistinct('Sales')).show()"
   ]
  },
  {
   "cell_type": "code",
   "execution_count": 59,
   "id": "13bff625-7e9b-4468-99a0-b51dd9339896",
   "metadata": {},
   "outputs": [
    {
     "name": "stdout",
     "output_type": "stream",
     "text": [
      "+-----------------+\n",
      "|        Avg Sales|\n",
      "+-----------------+\n",
      "|360.5833333333333|\n",
      "+-----------------+\n",
      "\n"
     ]
    }
   ],
   "source": [
    "sales_df.select(avg('Sales').alias('Avg Sales')).show()"
   ]
  },
  {
   "cell_type": "code",
   "execution_count": 63,
   "id": "eb549b43-b971-4ee9-a764-1c5c65c7c82d",
   "metadata": {},
   "outputs": [
    {
     "name": "stdout",
     "output_type": "stream",
     "text": [
      "+------------------+\n",
      "|         Avg Sales|\n",
      "+------------------+\n",
      "|250.08742410799007|\n",
      "+------------------+\n",
      "\n"
     ]
    }
   ],
   "source": [
    "sales_df.select(stddev('Sales').alias('Avg Sales')).show()"
   ]
  },
  {
   "cell_type": "markdown",
   "id": "f37b38e7-16d4-48bd-acdc-5b1eb82f2e47",
   "metadata": {},
   "source": [
    "I want to display only two decimal numbers"
   ]
  },
  {
   "cell_type": "code",
   "execution_count": 86,
   "id": "bda3744b-61d9-4e07-9a18-0fd4e15dd700",
   "metadata": {},
   "outputs": [],
   "source": [
    "from pyspark.sql.functions import format_number"
   ]
  },
  {
   "cell_type": "code",
   "execution_count": 81,
   "id": "c867ede8-ea0a-4a26-a0df-8b44b2023fb0",
   "metadata": {},
   "outputs": [],
   "source": [
    "sales_std=sales_df.select(stddev('Sales').alias('std'))\n"
   ]
  },
  {
   "cell_type": "code",
   "execution_count": 83,
   "id": "880e6520-1e5e-4573-a094-08ce885ab525",
   "metadata": {},
   "outputs": [
    {
     "name": "stdout",
     "output_type": "stream",
     "text": [
      "+------+\n",
      "|   std|\n",
      "+------+\n",
      "|250.09|\n",
      "+------+\n",
      "\n"
     ]
    }
   ],
   "source": [
    "sales_std.select(format_number('std',2).alias('std')).show()"
   ]
  },
  {
   "cell_type": "code",
   "execution_count": 91,
   "id": "e7226002-b3e8-4de4-b35e-34618b3dc979",
   "metadata": {},
   "outputs": [
    {
     "name": "stdout",
     "output_type": "stream",
     "text": [
      "+-------+-------+-----+\n",
      "|Company| Person|Sales|\n",
      "+-------+-------+-----+\n",
      "|     FB|   Carl|870.0|\n",
      "|   APPL|   Mike|750.0|\n",
      "|   MSFT|   Tina|600.0|\n",
      "|     FB|  Sarah|350.0|\n",
      "|   APPL|  Chris|350.0|\n",
      "|   GOOG|  Frank|340.0|\n",
      "|   APPL|   John|250.0|\n",
      "|   MSFT|Vanessa|243.0|\n",
      "|   GOOG|    Sam|200.0|\n",
      "|   APPL|  Linda|130.0|\n",
      "|   MSFT|    Amy|124.0|\n",
      "|   GOOG|Charlie|120.0|\n",
      "+-------+-------+-----+\n",
      "\n"
     ]
    }
   ],
   "source": [
    "sales_df.orderBy(sales_df['Sales'].desc()).show()"
   ]
  },
  {
   "cell_type": "code",
   "execution_count": 92,
   "id": "cab1cb66-d06c-41a6-8147-83ea2c457b1d",
   "metadata": {},
   "outputs": [],
   "source": [
    "# Stop the SparkSession\n",
    "spark.stop()"
   ]
  }
 ],
 "metadata": {
  "kernelspec": {
   "display_name": "Python 3",
   "language": "python",
   "name": "python3"
  },
  "language_info": {
   "codemirror_mode": {
    "name": "ipython",
    "version": 3
   },
   "file_extension": ".py",
   "mimetype": "text/x-python",
   "name": "python",
   "nbconvert_exporter": "python",
   "pygments_lexer": "ipython3",
   "version": "3.6.9"
  }
 },
 "nbformat": 4,
 "nbformat_minor": 5
}
