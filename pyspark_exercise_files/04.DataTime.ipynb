{
 "cells": [
  {
   "cell_type": "code",
   "execution_count": 6,
   "id": "4f5b514c-9845-4103-8801-640f773227fe",
   "metadata": {},
   "outputs": [],
   "source": [
    "import findspark\n",
    "findspark.init('/home/navin/spark-2.4.6-bin-hadoop2.7')\n",
    "from pyspark.sql import SparkSession\n",
    "spark=SparkSession.builder.appName('dates').getOrCreate()\n",
    "df=spark.read.csv(\"file:///home/navin/Documents/Data/appl_stock.csv\", header=True, inferSchema=True)"
   ]
  },
  {
   "cell_type": "code",
   "execution_count": 7,
   "id": "b124186d-67ec-4f68-a764-930bba8183bb",
   "metadata": {},
   "outputs": [
    {
     "name": "stdout",
     "output_type": "stream",
     "text": [
      "root\n",
      " |-- Date: timestamp (nullable = true)\n",
      " |-- Open: double (nullable = true)\n",
      " |-- High: double (nullable = true)\n",
      " |-- Low: double (nullable = true)\n",
      " |-- Close: double (nullable = true)\n",
      " |-- Volume: integer (nullable = true)\n",
      " |-- Adj Close: double (nullable = true)\n",
      "\n"
     ]
    }
   ],
   "source": [
    "df.printSchema()"
   ]
  },
  {
   "cell_type": "code",
   "execution_count": 9,
   "id": "45ca6660-3172-46f8-8c03-dd1163572e87",
   "metadata": {},
   "outputs": [
    {
     "name": "stdout",
     "output_type": "stream",
     "text": [
      "+-------------------+------------------+\n",
      "|               Date|             Close|\n",
      "+-------------------+------------------+\n",
      "|2010-01-04 00:00:00|        214.009998|\n",
      "|2010-01-05 00:00:00|        214.379993|\n",
      "|2010-01-06 00:00:00|        210.969995|\n",
      "|2010-01-07 00:00:00|            210.58|\n",
      "|2010-01-08 00:00:00|211.98000499999998|\n",
      "|2010-01-11 00:00:00|210.11000299999998|\n",
      "|2010-01-12 00:00:00|        207.720001|\n",
      "|2010-01-13 00:00:00|        210.650002|\n",
      "|2010-01-14 00:00:00|            209.43|\n",
      "|2010-01-15 00:00:00|            205.93|\n",
      "|2010-01-19 00:00:00|        215.039995|\n",
      "|2010-01-20 00:00:00|            211.73|\n",
      "|2010-01-21 00:00:00|        208.069996|\n",
      "|2010-01-22 00:00:00|            197.75|\n",
      "|2010-01-25 00:00:00|        203.070002|\n",
      "|2010-01-26 00:00:00|        205.940001|\n",
      "|2010-01-27 00:00:00|        207.880005|\n",
      "|2010-01-28 00:00:00|        199.289995|\n",
      "|2010-01-29 00:00:00|        192.060003|\n",
      "|2010-02-01 00:00:00|        194.729998|\n",
      "+-------------------+------------------+\n",
      "only showing top 20 rows\n",
      "\n"
     ]
    }
   ],
   "source": [
    "df.select(['Date','Close']).show()"
   ]
  },
  {
   "cell_type": "code",
   "execution_count": 10,
   "id": "e65b751c-54bf-4e78-b29e-a63a96dc96fd",
   "metadata": {},
   "outputs": [],
   "source": [
    "from pyspark.sql.functions import (\n",
    "dayofmonth, hour, dayofyear, month, year, weekofyear,format_number,date_format\n",
    ")"
   ]
  },
  {
   "cell_type": "markdown",
   "id": "6c7c2daf-1ea8-4b6f-8f00-b1e5b9a7814a",
   "metadata": {},
   "source": [
    "**Note:** Whenever you use any SQL function you have to use inside `SELECT()`"
   ]
  },
  {
   "cell_type": "code",
   "execution_count": 12,
   "id": "61d62652-05d8-45a8-b351-6c25cac08e04",
   "metadata": {},
   "outputs": [
    {
     "name": "stdout",
     "output_type": "stream",
     "text": [
      "+----------------+\n",
      "|dayofmonth(Date)|\n",
      "+----------------+\n",
      "|               4|\n",
      "|               5|\n",
      "|               6|\n",
      "|               7|\n",
      "|               8|\n",
      "|              11|\n",
      "|              12|\n",
      "|              13|\n",
      "|              14|\n",
      "|              15|\n",
      "|              19|\n",
      "|              20|\n",
      "|              21|\n",
      "|              22|\n",
      "|              25|\n",
      "|              26|\n",
      "|              27|\n",
      "|              28|\n",
      "|              29|\n",
      "|               1|\n",
      "+----------------+\n",
      "only showing top 20 rows\n",
      "\n"
     ]
    }
   ],
   "source": [
    "df.select(dayofmonth(df['Date'])).show()"
   ]
  },
  {
   "cell_type": "code",
   "execution_count": 13,
   "id": "4a402689-cabd-4a99-876f-ebe5a1f05e79",
   "metadata": {},
   "outputs": [
    {
     "name": "stdout",
     "output_type": "stream",
     "text": [
      "+----------+\n",
      "|hour(Date)|\n",
      "+----------+\n",
      "|         0|\n",
      "|         0|\n",
      "|         0|\n",
      "|         0|\n",
      "|         0|\n",
      "|         0|\n",
      "|         0|\n",
      "|         0|\n",
      "|         0|\n",
      "|         0|\n",
      "|         0|\n",
      "|         0|\n",
      "|         0|\n",
      "|         0|\n",
      "|         0|\n",
      "|         0|\n",
      "|         0|\n",
      "|         0|\n",
      "|         0|\n",
      "|         0|\n",
      "+----------+\n",
      "only showing top 20 rows\n",
      "\n"
     ]
    }
   ],
   "source": [
    "df.select(hour(df['Date'])).show()"
   ]
  },
  {
   "cell_type": "code",
   "execution_count": 14,
   "id": "068774d3-0281-44dd-bf09-f7ce76d25d39",
   "metadata": {},
   "outputs": [
    {
     "name": "stdout",
     "output_type": "stream",
     "text": [
      "+----------+\n",
      "|year(Date)|\n",
      "+----------+\n",
      "|      2010|\n",
      "|      2010|\n",
      "|      2010|\n",
      "|      2010|\n",
      "|      2010|\n",
      "|      2010|\n",
      "|      2010|\n",
      "|      2010|\n",
      "|      2010|\n",
      "|      2010|\n",
      "|      2010|\n",
      "|      2010|\n",
      "|      2010|\n",
      "|      2010|\n",
      "|      2010|\n",
      "|      2010|\n",
      "|      2010|\n",
      "|      2010|\n",
      "|      2010|\n",
      "|      2010|\n",
      "+----------+\n",
      "only showing top 20 rows\n",
      "\n"
     ]
    }
   ],
   "source": [
    "df.select(year(df['Date'])).show()"
   ]
  },
  {
   "cell_type": "code",
   "execution_count": 24,
   "id": "bfdaf81e-9b44-4fb2-af16-feecaca13f19",
   "metadata": {},
   "outputs": [],
   "source": [
    "# find the average close for every year\n",
    "\n",
    "# average_close=df.groupBy(year(df['Date'])).mean().show()\n",
    "# average_close=df.groupBy(year(df['Date']).alias('year')).mean().select([\"year\",\"avg(Close)\"]).show()\n",
    "average_close=df.groupBy(year(df['Date']).alias('year')).mean().select([\"year\",\"avg(Close)\"])"
   ]
  },
  {
   "cell_type": "code",
   "execution_count": 37,
   "id": "803ce485-ff4e-4907-bf72-91fb4de6ef71",
   "metadata": {},
   "outputs": [
    {
     "name": "stdout",
     "output_type": "stream",
     "text": [
      "+----+-----------------+\n",
      "|year|Avg_closing_price|\n",
      "+----+-----------------+\n",
      "|2015|           120.04|\n",
      "|2013|           472.63|\n",
      "|2014|           295.40|\n",
      "|2012|           576.05|\n",
      "|2016|           104.60|\n",
      "|2010|           259.84|\n",
      "|2011|           364.00|\n",
      "+----+-----------------+\n",
      "\n"
     ]
    }
   ],
   "source": [
    "# alias(\"avg_closing_price\")\n",
    "# average_close.withColumnRenamed(\"avg(Close)\",\"avg_closing_price\")\n",
    "result=average_close.withColumnRenamed(\"avg(Close)\",\"avg_closing_price\").select([\"year\",format_number(\"avg_closing_price\",2).alias(\"Avg_closing_price\")]).show()"
   ]
  }
 ],
 "metadata": {
  "kernelspec": {
   "display_name": "Python 3",
   "language": "python",
   "name": "python3"
  },
  "language_info": {
   "codemirror_mode": {
    "name": "ipython",
    "version": 3
   },
   "file_extension": ".py",
   "mimetype": "text/x-python",
   "name": "python",
   "nbconvert_exporter": "python",
   "pygments_lexer": "ipython3",
   "version": "3.6.9"
  }
 },
 "nbformat": 4,
 "nbformat_minor": 5
}
