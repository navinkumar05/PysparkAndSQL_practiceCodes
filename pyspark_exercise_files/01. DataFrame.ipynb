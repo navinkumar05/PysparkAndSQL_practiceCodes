{
 "cells": [
  {
   "cell_type": "markdown",
   "id": "ae042af1-40ff-4bb7-bd1e-5bb904a2a5a3",
   "metadata": {},
   "source": [
    "# Agenda\n",
    "\n",
    "- InferSchema\n",
    "- schema\n",
    "    - printSchema\n",
    "    - columns\n",
    "- `describe().show()`\n",
    "- Select Specific column `select`\n",
    "- withColumn\n",
    "- SQL Integration\n",
    "    - createOrReplaceTempView"
   ]
  },
  {
   "cell_type": "code",
   "execution_count": 2,
   "id": "81ebc768-9b7e-418f-a9ba-dded6568672d",
   "metadata": {},
   "outputs": [],
   "source": [
    "import findspark\n",
    "findspark.init('/home/navin/spark-2.4.6-bin-hadoop2.7')"
   ]
  },
  {
   "cell_type": "code",
   "execution_count": 3,
   "id": "ecd7a4f8-1096-4daf-a46b-e2b634ac8728",
   "metadata": {},
   "outputs": [],
   "source": [
    "from pyspark.sql import SparkSession"
   ]
  },
  {
   "cell_type": "code",
   "execution_count": 11,
   "id": "aa1bceb7-799b-466b-bf05-8edfc2d578eb",
   "metadata": {},
   "outputs": [],
   "source": [
    "spark=SparkSession.builder.appName('Basics').getOrCreate()"
   ]
  },
  {
   "cell_type": "markdown",
   "id": "b941488c-6ecb-4ca9-a104-5915ddeb3430",
   "metadata": {},
   "source": [
    "# Note : Error (read file from Local)\n",
    "- The error you're encountering, **Py4JJavaError**, indicates that Spark is trying to access the file employee_data.csv using HDFS (Hadoop Distributed File System) instead of the local file system.\n",
    "- Explicitly tell Spark to read from the local file system by using the file:// prefix."
   ]
  },
  {
   "cell_type": "code",
   "execution_count": 13,
   "id": "2f650f8d-b702-4e09-888d-c99eec4b770d",
   "metadata": {},
   "outputs": [],
   "source": [
    "df=spark.read.csv('file:///home/navin/Documents/employee_data.csv', header=True, inferSchema=True)"
   ]
  },
  {
   "cell_type": "markdown",
   "id": "cb8fa8b5-a510-4e3a-b5cf-8cde1756851f",
   "metadata": {},
   "source": [
    "# InferSchema=True\n",
    "\n",
    "- automatically detect the column data types(e.g., integers, doubles, strings)\n",
    "- without the need for manual specification"
   ]
  },
  {
   "cell_type": "code",
   "execution_count": 14,
   "id": "798f6dad-62f1-4a9e-a387-f19aa5d13a4e",
   "metadata": {},
   "outputs": [
    {
     "name": "stdout",
     "output_type": "stream",
     "text": [
      "+---+--------------+---+-----------+------+\n",
      "| id|          name|age| department|salary|\n",
      "+---+--------------+---+-----------+------+\n",
      "|  1|      John Doe| 30|Engineering| 70000|\n",
      "|  2|    Jane Smith| 25|  Marketing| 50000|\n",
      "|  3|   Bob Johnson| 40|      Sales| 60000|\n",
      "|  4|Alice Williams| 35|Engineering| 80000|\n",
      "|  5| Charlie Brown| 28|  Marketing| 55000|\n",
      "|  6|  David Wilson| 45|      Sales| 75000|\n",
      "|  7|     Eva Davis| 32|         HR| 62000|\n",
      "|  8|   Frank Moore| 50|Engineering| 90000|\n",
      "|  9|     Grace Lee| 29|  Marketing| 48000|\n",
      "| 10|  Hannah White| 33|      Sales| 65000|\n",
      "+---+--------------+---+-----------+------+\n",
      "\n"
     ]
    }
   ],
   "source": [
    "df.show()"
   ]
  },
  {
   "cell_type": "code",
   "execution_count": 16,
   "id": "86d37c8c-4285-4830-bba7-e435712e5553",
   "metadata": {},
   "outputs": [
    {
     "name": "stdout",
     "output_type": "stream",
     "text": [
      "root\n",
      " |-- id: integer (nullable = true)\n",
      " |-- name: string (nullable = true)\n",
      " |-- age: integer (nullable = true)\n",
      " |-- department: string (nullable = true)\n",
      " |-- salary: integer (nullable = true)\n",
      "\n"
     ]
    }
   ],
   "source": [
    "df.printSchema()"
   ]
  },
  {
   "cell_type": "code",
   "execution_count": 17,
   "id": "3e279f62-9334-47cc-a85c-00cb8fa44cf0",
   "metadata": {},
   "outputs": [
    {
     "data": {
      "text/plain": [
       "['id', 'name', 'age', 'department', 'salary']"
      ]
     },
     "execution_count": 17,
     "metadata": {},
     "output_type": "execute_result"
    }
   ],
   "source": [
    "df.columns"
   ]
  },
  {
   "cell_type": "code",
   "execution_count": 18,
   "id": "7f02cd4c-7983-4c86-a26a-2d70d20c63db",
   "metadata": {},
   "outputs": [
    {
     "name": "stdout",
     "output_type": "stream",
     "text": [
      "+-------+------------------+--------------+-----------------+-----------+-----------------+\n",
      "|summary|                id|          name|              age| department|           salary|\n",
      "+-------+------------------+--------------+-----------------+-----------+-----------------+\n",
      "|  count|                10|            10|               10|         10|               10|\n",
      "|   mean|               5.5|          null|             34.7|       null|          65500.0|\n",
      "| stddev|3.0276503540974917|          null|7.972870666621066|       null|13418.47813858023|\n",
      "|    min|                 1|Alice Williams|               25|Engineering|            48000|\n",
      "|    max|                10|      John Doe|               50|      Sales|            90000|\n",
      "+-------+------------------+--------------+-----------------+-----------+-----------------+\n",
      "\n"
     ]
    }
   ],
   "source": [
    "df.describe().show()"
   ]
  },
  {
   "cell_type": "code",
   "execution_count": 19,
   "id": "6aa1c31c-ba30-4727-9303-d2a9a7f84935",
   "metadata": {},
   "outputs": [
    {
     "data": {
      "text/plain": [
       "pyspark.sql.column.Column"
      ]
     },
     "execution_count": 19,
     "metadata": {},
     "output_type": "execute_result"
    }
   ],
   "source": [
    "type(df['age'])"
   ]
  },
  {
   "cell_type": "code",
   "execution_count": 25,
   "id": "4274243e-c8aa-4456-93c6-df4846ba1713",
   "metadata": {},
   "outputs": [
    {
     "data": {
      "text/plain": [
       "[Row(id=1, name='John Doe', age=30, department='Engineering', salary=70000),\n",
       " Row(id=2, name='Jane Smith', age=25, department='Marketing', salary=50000)]"
      ]
     },
     "execution_count": 25,
     "metadata": {},
     "output_type": "execute_result"
    }
   ],
   "source": [
    "df.head(2)"
   ]
  },
  {
   "cell_type": "code",
   "execution_count": 30,
   "id": "04e6b112-59c1-493a-8570-ff17030e8a87",
   "metadata": {},
   "outputs": [
    {
     "data": {
      "text/plain": [
       "Row(id=1, name='John Doe', age=30, department='Engineering', salary=70000)"
      ]
     },
     "execution_count": 30,
     "metadata": {},
     "output_type": "execute_result"
    }
   ],
   "source": [
    "df.head(2)[0]"
   ]
  },
  {
   "cell_type": "code",
   "execution_count": 29,
   "id": "97cd3875-635d-4208-a7be-450b4f5e9e39",
   "metadata": {},
   "outputs": [
    {
     "data": {
      "text/plain": [
       "pyspark.sql.types.Row"
      ]
     },
     "execution_count": 29,
     "metadata": {},
     "output_type": "execute_result"
    }
   ],
   "source": [
    "type(df.head(2)[0])"
   ]
  },
  {
   "cell_type": "code",
   "execution_count": 31,
   "id": "22e5ccce-babc-4e78-a790-957020bbc6bc",
   "metadata": {},
   "outputs": [
    {
     "data": {
      "text/plain": [
       "DataFrame[id: int, name: string]"
      ]
     },
     "execution_count": 31,
     "metadata": {},
     "output_type": "execute_result"
    }
   ],
   "source": [
    "# Select Multiple columns\n",
    "\n",
    "df.select(['id','name'])"
   ]
  },
  {
   "cell_type": "code",
   "execution_count": 33,
   "id": "50bad442-9e7f-4804-afbc-0da3b5771e00",
   "metadata": {},
   "outputs": [
    {
     "name": "stdout",
     "output_type": "stream",
     "text": [
      "+---+--------------+---+\n",
      "| id|          name|age|\n",
      "+---+--------------+---+\n",
      "|  1|      John Doe| 30|\n",
      "|  2|    Jane Smith| 25|\n",
      "|  3|   Bob Johnson| 40|\n",
      "|  4|Alice Williams| 35|\n",
      "|  5| Charlie Brown| 28|\n",
      "|  6|  David Wilson| 45|\n",
      "|  7|     Eva Davis| 32|\n",
      "|  8|   Frank Moore| 50|\n",
      "|  9|     Grace Lee| 29|\n",
      "| 10|  Hannah White| 33|\n",
      "+---+--------------+---+\n",
      "\n"
     ]
    }
   ],
   "source": [
    "df.select(['id','name','age']).show()"
   ]
  },
  {
   "cell_type": "code",
   "execution_count": 35,
   "id": "d9d470ac-02f4-4545-9951-e0eabfa58b7a",
   "metadata": {},
   "outputs": [
    {
     "name": "stdout",
     "output_type": "stream",
     "text": [
      "+---+--------------+---+-----------+------+------+\n",
      "| id|          name|age| department|salary|newAge|\n",
      "+---+--------------+---+-----------+------+------+\n",
      "|  1|      John Doe| 30|Engineering| 70000|    60|\n",
      "|  2|    Jane Smith| 25|  Marketing| 50000|    50|\n",
      "|  3|   Bob Johnson| 40|      Sales| 60000|    80|\n",
      "|  4|Alice Williams| 35|Engineering| 80000|    70|\n",
      "|  5| Charlie Brown| 28|  Marketing| 55000|    56|\n",
      "|  6|  David Wilson| 45|      Sales| 75000|    90|\n",
      "|  7|     Eva Davis| 32|         HR| 62000|    64|\n",
      "|  8|   Frank Moore| 50|Engineering| 90000|   100|\n",
      "|  9|     Grace Lee| 29|  Marketing| 48000|    58|\n",
      "| 10|  Hannah White| 33|      Sales| 65000|    66|\n",
      "+---+--------------+---+-----------+------+------+\n",
      "\n"
     ]
    }
   ],
   "source": [
    "# Transformation - newcolumn - derive based on the exiting column\n",
    "df.withColumn('newAge', df['age']*2).show()"
   ]
  },
  {
   "cell_type": "code",
   "execution_count": 37,
   "id": "bee77e60-8e69-453a-a165-20cc7cef560e",
   "metadata": {},
   "outputs": [
    {
     "name": "stdout",
     "output_type": "stream",
     "text": [
      "+---+--------------+--------+-----------+------+\n",
      "| id|          name|myNewAge| department|salary|\n",
      "+---+--------------+--------+-----------+------+\n",
      "|  1|      John Doe|      30|Engineering| 70000|\n",
      "|  2|    Jane Smith|      25|  Marketing| 50000|\n",
      "|  3|   Bob Johnson|      40|      Sales| 60000|\n",
      "|  4|Alice Williams|      35|Engineering| 80000|\n",
      "|  5| Charlie Brown|      28|  Marketing| 55000|\n",
      "|  6|  David Wilson|      45|      Sales| 75000|\n",
      "|  7|     Eva Davis|      32|         HR| 62000|\n",
      "|  8|   Frank Moore|      50|Engineering| 90000|\n",
      "|  9|     Grace Lee|      29|  Marketing| 48000|\n",
      "| 10|  Hannah White|      33|      Sales| 65000|\n",
      "+---+--------------+--------+-----------+------+\n",
      "\n"
     ]
    }
   ],
   "source": [
    "df.withColumnRenamed('age', 'myNewAge').show()"
   ]
  },
  {
   "cell_type": "markdown",
   "id": "7b6d3a77-cdf4-45eb-903e-db7c63dd7215",
   "metadata": {},
   "source": [
    "# SQL"
   ]
  },
  {
   "cell_type": "code",
   "execution_count": 38,
   "id": "75f889c5-72e5-48e4-8fc4-2c3719af509e",
   "metadata": {},
   "outputs": [],
   "source": [
    "df.createOrReplaceTempView(\"emp\")"
   ]
  },
  {
   "cell_type": "code",
   "execution_count": 44,
   "id": "ae209fda-9616-4d2d-be1b-409b32f0eab4",
   "metadata": {},
   "outputs": [],
   "source": [
    "results=spark.sql(\"SELECT * FROM emp WHERE salary >60000\")"
   ]
  },
  {
   "cell_type": "code",
   "execution_count": 45,
   "id": "79bb8847-3aa1-46d5-a5e8-1651a23ce710",
   "metadata": {},
   "outputs": [
    {
     "name": "stdout",
     "output_type": "stream",
     "text": [
      "+---+--------------+---+-----------+------+\n",
      "| id|          name|age| department|salary|\n",
      "+---+--------------+---+-----------+------+\n",
      "|  1|      John Doe| 30|Engineering| 70000|\n",
      "|  4|Alice Williams| 35|Engineering| 80000|\n",
      "|  6|  David Wilson| 45|      Sales| 75000|\n",
      "|  7|     Eva Davis| 32|         HR| 62000|\n",
      "|  8|   Frank Moore| 50|Engineering| 90000|\n",
      "| 10|  Hannah White| 33|      Sales| 65000|\n",
      "+---+--------------+---+-----------+------+\n",
      "\n"
     ]
    }
   ],
   "source": [
    "results.show()"
   ]
  },
  {
   "cell_type": "code",
   "execution_count": 46,
   "id": "ab563325-eb6b-4f7c-b0ac-3f3eb17f5f1f",
   "metadata": {},
   "outputs": [],
   "source": [
    "# Stop the SparkSession\n",
    "spark.stop()"
   ]
  }
 ],
 "metadata": {
  "kernelspec": {
   "display_name": "Python 3",
   "language": "python",
   "name": "python3"
  },
  "language_info": {
   "codemirror_mode": {
    "name": "ipython",
    "version": 3
   },
   "file_extension": ".py",
   "mimetype": "text/x-python",
   "name": "python",
   "nbconvert_exporter": "python",
   "pygments_lexer": "ipython3",
   "version": "3.6.9"
  }
 },
 "nbformat": 4,
 "nbformat_minor": 5
}
