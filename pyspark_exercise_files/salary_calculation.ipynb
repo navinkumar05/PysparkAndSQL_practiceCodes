{
 "cells": [
  {
   "cell_type": "code",
   "execution_count": 10,
   "id": "7ef419e5-b69f-4e5f-9d64-aca60a42c524",
   "metadata": {},
   "outputs": [],
   "source": [
    "import findspark\n",
    "findspark.init('/home/navin/spark-2.4.6-bin-hadoop2.7')"
   ]
  },
  {
   "cell_type": "code",
   "execution_count": 11,
   "id": "f778e4c0-f6e1-4883-b4ca-a3b223bc9185",
   "metadata": {},
   "outputs": [],
   "source": [
    "from pyspark.sql import SparkSession\n",
    "from pyspark.sql.functions import sum as _sum"
   ]
  },
  {
   "cell_type": "code",
   "execution_count": 12,
   "id": "4fb09c8b-a871-4f03-8d22-cb51c41c0b78",
   "metadata": {},
   "outputs": [],
   "source": [
    "# Initialize SparkSession\n",
    "spark = SparkSession.builder.appName(\"TotalSalaryCalculation\").getOrCreate()"
   ]
  },
  {
   "cell_type": "code",
   "execution_count": 13,
   "id": "389bc94a-9d72-4d25-ba1a-85fe135212b8",
   "metadata": {},
   "outputs": [],
   "source": [
    "# Read the data from HDFS into a DataFrame\n",
    "df = spark.read.csv(\"hdfs://localhost:50000/employee_data.csv\", header=True, inferSchema=True)"
   ]
  },
  {
   "cell_type": "code",
   "execution_count": 14,
   "id": "716eeb86-6384-4ebf-890a-f15393c2ae37",
   "metadata": {},
   "outputs": [],
   "source": [
    "# Calculate the total salary and write the result to HDFS\n",
    "total_salary_df = df.select(_sum(\"salary\").alias(\"total_salary\"))"
   ]
  },
  {
   "cell_type": "code",
   "execution_count": 15,
   "id": "f7417ee8-dd76-43dd-bd20-cf53912e0cbf",
   "metadata": {},
   "outputs": [],
   "source": [
    "# Save the result to HDFS\n",
    "total_salary_df.write.mode(\"overwrite\").csv(\"hdfs://localhost:50000/total_salary\")"
   ]
  },
  {
   "cell_type": "code",
   "execution_count": 16,
   "id": "d85fef24-6854-4b9f-84d4-2218027a4775",
   "metadata": {},
   "outputs": [],
   "source": [
    "# Stop the SparkSession\n",
    "spark.stop()"
   ]
  },
  {
   "cell_type": "code",
   "execution_count": null,
   "id": "6760f440-8c6e-4ef5-8005-157b5cb9562b",
   "metadata": {},
   "outputs": [],
   "source": []
  }
 ],
 "metadata": {
  "kernelspec": {
   "display_name": "Python 3",
   "language": "python",
   "name": "python3"
  },
  "language_info": {
   "codemirror_mode": {
    "name": "ipython",
    "version": 3
   },
   "file_extension": ".py",
   "mimetype": "text/x-python",
   "name": "python",
   "nbconvert_exporter": "python",
   "pygments_lexer": "ipython3",
   "version": "3.6.9"
  }
 },
 "nbformat": 4,
 "nbformat_minor": 5
}
